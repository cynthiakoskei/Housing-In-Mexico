{
 "cells": [
  {
   "cell_type": "markdown",
   "id": "e1a911f8-8494-4618-a3c6-374099603cfe",
   "metadata": {},
   "source": [
    "# Preparing Mexico Data"
   ]
  },
  {
   "cell_type": "code",
   "execution_count": 1,
   "id": "6583118a-7631-44ac-8000-b4446e0edab7",
   "metadata": {},
   "outputs": [],
   "source": [
    "import pandas as pd"
   ]
  },
  {
   "cell_type": "markdown",
   "id": "e9817a44-42f1-4165-96f3-419706008d67",
   "metadata": {},
   "source": [
    "# Import"
   ]
  },
  {
   "cell_type": "markdown",
   "id": "939d155d-e68c-47e5-9944-de5d208bb418",
   "metadata": {},
   "source": [
    "The first step of any data science project is preparing data that is importing your raw data and cleaning it."
   ]
  },
  {
   "cell_type": "markdown",
   "id": "f2734902-7f46-4009-93fc-90962d5396f9",
   "metadata": {},
   "source": [
    "**Task 1.2.1:** Read these three files into three separate DataFrames named `df1`, `df2`, and `df3`, respectively."
   ]
  },
  {
   "cell_type": "code",
   "execution_count": 2,
   "id": "7aacaa06-8ece-410d-837d-1c7247d26788",
   "metadata": {},
   "outputs": [
    {
     "name": "stdout",
     "output_type": "stream",
     "text": [
      "df1 type: <class 'pandas.core.frame.DataFrame'>\n",
      "df1 shape: (1000, 6)\n",
      "\n",
      "df2 type: <class 'pandas.core.frame.DataFrame'>\n",
      "df2 shape: (1000, 6)\n",
      "\n",
      "df3 type: <class 'pandas.core.frame.DataFrame'>\n",
      "df3 shape: (1000, 5)\n"
     ]
    }
   ],
   "source": [
    "# Load CSV files into DataFrames\n",
    "df1 = pd.read_csv(\"data/mexico-real-estate-1.csv\")\n",
    "df2 = pd.read_csv(\"data/mexico-real-estate-2.csv\")\n",
    "df3 = pd.read_csv(\"data/mexico-real-estate-3.csv\")\n",
    "\n",
    "# Print object type and shape for DataFrames\n",
    "print(\"df1 type:\", type(df1))\n",
    "print(\"df1 shape:\", df1.shape)\n",
    "print()\n",
    "print(\"df2 type:\", type(df2))\n",
    "print(\"df2 shape:\", df2.shape)\n",
    "print()\n",
    "print(\"df3 type:\", type(df3))\n",
    "print(\"df3 shape:\", df3.shape)"
   ]
  },
  {
   "cell_type": "markdown",
   "id": "b88c8b37-9de8-495d-833e-01a2f53a0b05",
   "metadata": {},
   "source": [
    "## Clean `df1`"
   ]
  },
  {
   "cell_type": "markdown",
   "id": "96477a54-dab0-4bc8-89d7-8b362a61ef70",
   "metadata": {},
   "source": [
    "**Task 1.2.2:** Inspect `df1` by looking at its [`shape`] attribute. Then use the [`info`] method to see the data types and number of missing values for each column. Finally, use the [`head`] method to determine to look at the first five rows of your dataset."
   ]
  },
  {
   "cell_type": "code",
   "execution_count": 3,
   "id": "30a8b73c-c591-41d7-8a10-3fa8f8dfaaaa",
   "metadata": {},
   "outputs": [
    {
     "name": "stdout",
     "output_type": "stream",
     "text": [
      "<class 'pandas.core.frame.DataFrame'>\n",
      "RangeIndex: 1000 entries, 0 to 999\n",
      "Data columns (total 6 columns):\n",
      " #   Column         Non-Null Count  Dtype  \n",
      "---  ------         --------------  -----  \n",
      " 0   property_type  1000 non-null   object \n",
      " 1   state          1000 non-null   object \n",
      " 2   lat            959 non-null    float64\n",
      " 3   lon            946 non-null    float64\n",
      " 4   area_m2        1000 non-null   float64\n",
      " 5   price_usd      1000 non-null   object \n",
      "dtypes: float64(3), object(3)\n",
      "memory usage: 47.0+ KB\n",
      "\n"
     ]
    },
    {
     "data": {
      "text/html": [
       "<div>\n",
       "<style scoped>\n",
       "    .dataframe tbody tr th:only-of-type {\n",
       "        vertical-align: middle;\n",
       "    }\n",
       "\n",
       "    .dataframe tbody tr th {\n",
       "        vertical-align: top;\n",
       "    }\n",
       "\n",
       "    .dataframe thead th {\n",
       "        text-align: right;\n",
       "    }\n",
       "</style>\n",
       "<table border=\"1\" class=\"dataframe\">\n",
       "  <thead>\n",
       "    <tr style=\"text-align: right;\">\n",
       "      <th></th>\n",
       "      <th>property_type</th>\n",
       "      <th>state</th>\n",
       "      <th>lat</th>\n",
       "      <th>lon</th>\n",
       "      <th>area_m2</th>\n",
       "      <th>price_usd</th>\n",
       "    </tr>\n",
       "  </thead>\n",
       "  <tbody>\n",
       "    <tr>\n",
       "      <th>0</th>\n",
       "      <td>house</td>\n",
       "      <td>Pahang</td>\n",
       "      <td>3.967144</td>\n",
       "      <td>103.403910</td>\n",
       "      <td>117.8</td>\n",
       "      <td>$340,632.31</td>\n",
       "    </tr>\n",
       "    <tr>\n",
       "      <th>1</th>\n",
       "      <td>house</td>\n",
       "      <td>Rogaland</td>\n",
       "      <td>58.848193</td>\n",
       "      <td>5.664660</td>\n",
       "      <td>362.2</td>\n",
       "      <td>$307,074.03</td>\n",
       "    </tr>\n",
       "    <tr>\n",
       "      <th>2</th>\n",
       "      <td>house</td>\n",
       "      <td>Jalisco</td>\n",
       "      <td>19.405296</td>\n",
       "      <td>-99.150458</td>\n",
       "      <td>323.5</td>\n",
       "      <td>$347,139.86</td>\n",
       "    </tr>\n",
       "    <tr>\n",
       "      <th>3</th>\n",
       "      <td>house</td>\n",
       "      <td>Rogaland</td>\n",
       "      <td>NaN</td>\n",
       "      <td>5.712328</td>\n",
       "      <td>236.4</td>\n",
       "      <td>$91,926.78</td>\n",
       "    </tr>\n",
       "    <tr>\n",
       "      <th>4</th>\n",
       "      <td>apartment</td>\n",
       "      <td>Sarawak</td>\n",
       "      <td>3.191408</td>\n",
       "      <td>113.088634</td>\n",
       "      <td>204.8</td>\n",
       "      <td>$149,990.26</td>\n",
       "    </tr>\n",
       "  </tbody>\n",
       "</table>\n",
       "</div>"
      ],
      "text/plain": [
       "  property_type     state        lat         lon  area_m2     price_usd\n",
       "0         house    Pahang   3.967144  103.403910    117.8  $340,632.31 \n",
       "1         house  Rogaland  58.848193    5.664660    362.2  $307,074.03 \n",
       "2         house   Jalisco  19.405296  -99.150458    323.5  $347,139.86 \n",
       "3         house  Rogaland        NaN    5.712328    236.4   $91,926.78 \n",
       "4     apartment   Sarawak   3.191408  113.088634    204.8  $149,990.26 "
      ]
     },
     "execution_count": 3,
     "metadata": {},
     "output_type": "execute_result"
    }
   ],
   "source": [
    "# Print df1 shape\n",
    "df1.shape\n",
    "\n",
    "# Print df1 info\n",
    "df1.info()\n",
    "print()\n",
    "\n",
    "# Get output of df1 head\n",
    "df1.head()"
   ]
  },
  {
   "cell_type": "markdown",
   "id": "0d4625e3-9f92-41d3-8c5f-33e5255fb350",
   "metadata": {},
   "source": [
    "It looks like there are a couple of problems in this DataFrame that you need to solve. First, there are many rows with `NaN` values in the `\"lat\"` and `\"lon\"` columns. Second, the data type for the `\"price_usd\"` column is `object` when it should be `float`. "
   ]
  },
  {
   "cell_type": "markdown",
   "id": "82d62bda-48e0-4550-a6ca-69f899fe6ec0",
   "metadata": {},
   "source": [
    "**Task 1.2.3:** Clean `df1` by dropping rows with `NaN` values. Then remove the `\"$\"` and `\",\"` characters from `\"price_usd\"` and recast the values in the column as floats."
   ]
  },
  {
   "cell_type": "code",
   "execution_count": null,
   "id": "55a05bfc-80c1-43ba-abe4-251a6ff29304",
   "metadata": {},
   "outputs": [],
   "source": []
  }
 ],
 "metadata": {
  "kernelspec": {
   "display_name": "Python 3 (ipykernel)",
   "language": "python",
   "name": "python3"
  },
  "language_info": {
   "codemirror_mode": {
    "name": "ipython",
    "version": 3
   },
   "file_extension": ".py",
   "mimetype": "text/x-python",
   "name": "python",
   "nbconvert_exporter": "python",
   "pygments_lexer": "ipython3",
   "version": "3.11.3"
  }
 },
 "nbformat": 4,
 "nbformat_minor": 5
}
