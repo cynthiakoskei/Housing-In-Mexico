{
 "cells": [
  {
   "cell_type": "markdown",
   "id": "50cf79af-7550-4c66-a40c-a0d4023cd8bf",
   "metadata": {},
   "source": [
    "# What's Tabular Data?"
   ]
  },
  {
   "cell_type": "markdown",
   "id": "68c01858-ac1b-49d4-8eef-cf0ca503e146",
   "metadata": {},
   "source": [
    "## Principle of `tidy data` includes :\n",
    "\n",
    "1. Each row corresponds to a single house in our dataset. Houses are `Observation`.\n",
    "2. Each column corresponds to a characteristic of each house. Variable are `Features`.\n",
    "3. Each cell contains only one `value`."
   ]
  },
  {
   "cell_type": "markdown",
   "id": "cce20430-87c2-46a6-89a5-31592648557b",
   "metadata": {},
   "source": [
    "## Python Data Structures"
   ]
  },
  {
   "cell_type": "markdown",
   "id": "5f25f715-1be8-4dd1-82bb-c9aefd68db08",
   "metadata": {},
   "source": [
    "### Working with Lists\n",
    "\n",
    "**House, price, rooms and area**"
   ]
  },
  {
   "cell_type": "code",
   "execution_count": 1,
   "id": "96da29e3-d48e-4fd2-a13b-562bf647ffd1",
   "metadata": {},
   "outputs": [
    {
     "name": "stdout",
     "output_type": "stream",
     "text": [
      "house_0_list type: <class 'list'>\n",
      "house_0_list length: 3\n"
     ]
    },
    {
     "data": {
      "text/plain": [
       "[115910.26, 128, 4]"
      ]
     },
     "execution_count": 1,
     "metadata": {},
     "output_type": "execute_result"
    }
   ],
   "source": [
    "# Declare variable `house_0_list`\n",
    "house_0_list = [115910.26, 128, 4]\n",
    "\n",
    "# Print object type of `house_0_list`\n",
    "print(\"house_0_list type:\", type(house_0_list))\n",
    "\n",
    "# Print length of `house_0_list`\n",
    "print(\"house_0_list length:\", len(house_0_list))\n",
    "\n",
    "# Get output of `house_0_list`\n",
    "house_0_list"
   ]
  },
  {
   "cell_type": "markdown",
   "id": "6284168f-7a82-4390-9e3a-0106c8b3ea70",
   "metadata": {},
   "source": [
    "**Task 1.1.1:** One metric that people in the real estate industry look at is price per square meter because it allows them to compare houses of different sizes. Can you use the information in this list to calculate the price per square meter for `house_0`?"
   ]
  },
  {
   "cell_type": "code",
   "execution_count": 2,
   "id": "3642f90e-950e-4163-af92-0aee10ed9e95",
   "metadata": {},
   "outputs": [
    {
     "name": "stdout",
     "output_type": "stream",
     "text": [
      "house_0_price_m2 type: <class 'float'>\n"
     ]
    },
    {
     "data": {
      "text/plain": [
       "905.54890625"
      ]
     },
     "execution_count": 2,
     "metadata": {},
     "output_type": "execute_result"
    }
   ],
   "source": [
    "# Declare variable `house_0_price_m2`\n",
    "house_0_price_m2 = house_0_list[0] / house_0_list[1]\n",
    "# Print object type of `house_0_price_m2`\n",
    "print(\"house_0_price_m2 type:\", type(house_0_price_m2))\n",
    "\n",
    "# Get output of `house_0_price_m2`\n",
    "house_0_price_m2"
   ]
  },
  {
   "cell_type": "markdown",
   "id": "4b66874d-c8c3-4281-8e2e-c77a67d26d6a",
   "metadata": {},
   "source": [
    "**Task 1.1.2:** Next, use the [`append`]method to add the price per square meter to the end of the end of `house_0`."
   ]
  },
  {
   "cell_type": "code",
   "execution_count": 3,
   "id": "97aa984a-bbc9-4e31-adf3-a97af565b82a",
   "metadata": {},
   "outputs": [
    {
     "name": "stdout",
     "output_type": "stream",
     "text": [
      "house_0_list type: <class 'list'>\n",
      "house_0_list length: 4\n"
     ]
    },
    {
     "data": {
      "text/plain": [
       "[115910.26, 128, 4, 905.54890625]"
      ]
     },
     "execution_count": 3,
     "metadata": {},
     "output_type": "execute_result"
    }
   ],
   "source": [
    "# Append price / sq. meter to `house_0_list`\n",
    "house_0_list.append(house_0_price_m2)\n",
    "\n",
    "# Print object type of `house_0_list`\n",
    "print(\"house_0_list type:\", type(house_0_list))\n",
    "\n",
    "# Print length of `house_0_list`\n",
    "print(\"house_0_list length:\", len(house_0_list))\n",
    "\n",
    "# Get output of `house_0_list`\n",
    "house_0_list"
   ]
  },
  {
   "cell_type": "code",
   "execution_count": 4,
   "id": "abd5e4aa-1645-4008-94c2-ce4f2c9e8ba6",
   "metadata": {},
   "outputs": [
    {
     "name": "stdout",
     "output_type": "stream",
     "text": [
      "houses_nested_list type: <class 'list'>\n",
      "houses_nested_list length: 5\n"
     ]
    },
    {
     "data": {
      "text/plain": [
       "[[115910.26, 128.0, 4.0],\n",
       " [48718.17, 210.0, 3.0],\n",
       " [28977.56, 58.0, 2.0],\n",
       " [36932.27, 79.0, 3.0],\n",
       " [83903.51, 111.0, 3.0]]"
      ]
     },
     "execution_count": 4,
     "metadata": {},
     "output_type": "execute_result"
    }
   ],
   "source": [
    "# Declare variable `houses_nested_list`\n",
    "houses_nested_list = [\n",
    "    [115910.26, 128.0, 4.0],\n",
    "    [48718.17, 210.0, 3.0],\n",
    "    [28977.56, 58.0, 2.0],\n",
    "    [36932.27, 79.0, 3.0],\n",
    "    [83903.51, 111.0, 3.0],\n",
    "]\n",
    "\n",
    "# Print `houses_nested_list` type\n",
    "print(\"houses_nested_list type:\", type(houses_nested_list))\n",
    "\n",
    "# Print `houses_nested_list` length\n",
    "print(\"houses_nested_list length:\", len(houses_nested_list))\n",
    "\n",
    "# Get output of `houses_nested_list`\n",
    "houses_nested_list"
   ]
  },
  {
   "cell_type": "code",
   "execution_count": 5,
   "id": "dda48d53-d8b8-4bba-b8f0-5cfad2a0da21",
   "metadata": {},
   "outputs": [
    {
     "name": "stdout",
     "output_type": "stream",
     "text": [
      "houses_nested_list type: <class 'list'>\n",
      "houses_nested_list length: 4\n",
      "[[115910.26, 128.0, 4.0, 905.54890625], [48718.17, 210.0, 3.0, 231.9912857142857], [28977.56, 58.0, 2.0, 499.61310344827587], [36932.27, 79.0, 3.0, 467.4970886075949], [83903.51, 111.0, 3.0, 755.8874774774774]]\n"
     ]
    }
   ],
   "source": [
    "# Create for loop to iterate through `houses_nested_list`\n",
    "\n",
    "# For each observation, append price / sq. meter\n",
    "for house in houses_nested_list:\n",
    "    price_m2 = house[0] / house[1]\n",
    "    house.append(price_m2)\n",
    "    \n",
    "# Print `houses_nested_list` type\n",
    "print(\"houses_nested_list type:\", type(house))\n",
    "\n",
    "# Print `houses_nested_list` length\n",
    "print(\"houses_nested_list length:\", len(house))\n",
    "\n",
    "# Get output of `houses_nested_list`\n",
    "print(houses_nested_list)"
   ]
  },
  {
   "cell_type": "markdown",
   "id": "85f019f9-6686-4759-acf2-303b84f0c94a",
   "metadata": {},
   "source": [
    "### Working with Dictionaries"
   ]
  },
  {
   "cell_type": "markdown",
   "id": "87ac764c-8a90-4982-b164-1b520a9d864a",
   "metadata": {},
   "source": [
    "Lists can only represent values. While a **dictionary** each value is associated with a key."
   ]
  },
  {
   "cell_type": "code",
   "execution_count": 6,
   "id": "eabd4692-958e-4c1d-adb4-8f085d834c23",
   "metadata": {},
   "outputs": [
    {
     "name": "stdout",
     "output_type": "stream",
     "text": [
      "house_0_dict type: <class 'dict'>\n"
     ]
    },
    {
     "data": {
      "text/plain": [
       "{'price_approx_usd': 115910.26, 'surface_covered_in_m2': 128, 'rooms': 4}"
      ]
     },
     "execution_count": 6,
     "metadata": {},
     "output_type": "execute_result"
    }
   ],
   "source": [
    "# Declare variable `house_0_dict`\n",
    "house_0_dict = {\n",
    "    \"price_approx_usd\": 115910.26,\n",
    "    \"surface_covered_in_m2\": 128,\n",
    "    \"rooms\": 4,\n",
    "}\n",
    "\n",
    "# Print `house_0_dict` type\n",
    "print(\"house_0_dict type:\", type(house_0_dict))\n",
    "\n",
    "# Get output of `house_0_dict`\n",
    "house_0_dict"
   ]
  },
  {
   "cell_type": "markdown",
   "id": "4a9b7b29-69bb-42c2-8d01-0414f78a1f45",
   "metadata": {},
   "source": [
    "**Task 1.1.4:** Calculate the price per square meter for `house_0` and add it to the dictionary under the key `\"price_per_m2\"`."
   ]
  },
  {
   "cell_type": "code",
   "execution_count": 7,
   "id": "af9d0475-2d05-439f-b0dd-e6aa2c412b51",
   "metadata": {},
   "outputs": [
    {
     "data": {
      "text/plain": [
       "{'price_approx_usd': 115910.26,\n",
       " 'surface_covered_in_m2': 128,\n",
       " 'rooms': 4,\n",
       " 'price_per_m2': 905.54890625}"
      ]
     },
     "execution_count": 7,
     "metadata": {},
     "output_type": "execute_result"
    }
   ],
   "source": [
    "# Add \"price_per_m2\" key-value pair to `house_0_dict`\n",
    "house_0_dict[\"price_per_m2\"] = house_0_dict[\"price_approx_usd\"] / house_0_dict[\"surface_covered_in_m2\"]\n",
    "\n",
    "# Get output of `house_0_dict`\n",
    "house_0_dict"
   ]
  },
  {
   "cell_type": "markdown",
   "id": "7ce07f2a-803c-45a8-b165-12de991ee491",
   "metadata": {},
   "source": [
    "If we wanted to combine all our observations together, the best way would be to create a list of dictionaries."
   ]
  },
  {
   "cell_type": "code",
   "execution_count": 8,
   "id": "ff6b3eab-3606-4f40-917f-fe00e61ee321",
   "metadata": {},
   "outputs": [
    {
     "name": "stdout",
     "output_type": "stream",
     "text": [
      "houses_rowwise type: <class 'list'>\n",
      "houses_rowwise length: 5\n"
     ]
    },
    {
     "data": {
      "text/plain": [
       "[{'price_approx_usd': 115910.26, 'surface_covered_in_m2': 128, 'rooms': 4},\n",
       " {'price_approx_usd': 48718.17, 'surface_covered_in_m2': 210, 'rooms': 3},\n",
       " {'price_approx_usd': 28977.56, 'surface_covered_in_m2': 58, 'rooms': 2},\n",
       " {'price_approx_usd': 36932.27, 'surface_covered_in_m2': 79, 'rooms': 3},\n",
       " {'price_approx_usd': 83903.51, 'surface_covered_in_m2': 111, 'rooms': 3}]"
      ]
     },
     "execution_count": 8,
     "metadata": {},
     "output_type": "execute_result"
    }
   ],
   "source": [
    "# Declare variable `houses_rowwise`\n",
    "houses_rowwise = [\n",
    "    {\n",
    "        \"price_approx_usd\": 115910.26,\n",
    "        \"surface_covered_in_m2\": 128,\n",
    "        \"rooms\": 4,\n",
    "    },\n",
    "    {\n",
    "        \"price_approx_usd\": 48718.17,\n",
    "        \"surface_covered_in_m2\": 210,\n",
    "        \"rooms\": 3,\n",
    "    },\n",
    "    {\n",
    "        \"price_approx_usd\": 28977.56,\n",
    "        \"surface_covered_in_m2\": 58,\n",
    "        \"rooms\": 2,\n",
    "    },\n",
    "    {\n",
    "        \"price_approx_usd\": 36932.27,\n",
    "        \"surface_covered_in_m2\": 79,\n",
    "        \"rooms\": 3,\n",
    "    },\n",
    "    {\n",
    "        \"price_approx_usd\": 83903.51,\n",
    "        \"surface_covered_in_m2\": 111,\n",
    "        \"rooms\": 3,\n",
    "    },\n",
    "]\n",
    "\n",
    "# Print `houses_rowwise` object type\n",
    "print(\"houses_rowwise type:\", type(houses_rowwise))\n",
    "\n",
    "# Print `houses_rowwise` length\n",
    "print(\"houses_rowwise length:\", len(houses_rowwise))\n",
    "\n",
    "# Get output of `houses_rowwise`\n",
    "houses_rowwise"
   ]
  },
  {
   "cell_type": "markdown",
   "id": "142e8bb9-66e3-44e4-b3ce-2d7efc035161",
   "metadata": {},
   "source": [
    "This way of storing data is so popular, it has its own name: **JSON**"
   ]
  },
  {
   "cell_type": "markdown",
   "id": "42fbdebb-12b0-49a2-85b5-f5ce72b28827",
   "metadata": {},
   "source": [
    "**Task 1.1.5:** Using a `for` loop, calculate the price per square meter and store the result under a `\"price_per_m2\"` key for each observation in `houses_rowwise`."
   ]
  },
  {
   "cell_type": "code",
   "execution_count": 9,
   "id": "2b1771e7-10c3-4495-830f-60e4f7ca37ce",
   "metadata": {},
   "outputs": [
    {
     "name": "stdout",
     "output_type": "stream",
     "text": [
      "houses_rowwise type: <class 'list'>\n",
      "houses_rowwise length: 5\n"
     ]
    },
    {
     "data": {
      "text/plain": [
       "[{'price_approx_usd': 115910.26,\n",
       "  'surface_covered_in_m2': 128,\n",
       "  'rooms': 4,\n",
       "  'price_per_m2': 905.54890625},\n",
       " {'price_approx_usd': 48718.17,\n",
       "  'surface_covered_in_m2': 210,\n",
       "  'rooms': 3,\n",
       "  'price_per_m2': 231.9912857142857},\n",
       " {'price_approx_usd': 28977.56,\n",
       "  'surface_covered_in_m2': 58,\n",
       "  'rooms': 2,\n",
       "  'price_per_m2': 499.61310344827587},\n",
       " {'price_approx_usd': 36932.27,\n",
       "  'surface_covered_in_m2': 79,\n",
       "  'rooms': 3,\n",
       "  'price_per_m2': 467.4970886075949},\n",
       " {'price_approx_usd': 83903.51,\n",
       "  'surface_covered_in_m2': 111,\n",
       "  'rooms': 3,\n",
       "  'price_per_m2': 755.8874774774774}]"
      ]
     },
     "execution_count": 9,
     "metadata": {},
     "output_type": "execute_result"
    }
   ],
   "source": [
    "# Create for loop to iterate through `houses_rowwise`\n",
    "\n",
    "    # For each observation, add \"price_per_m2\" key-value pair\n",
    "for house in houses_rowwise:\n",
    "    price_per_m2 = house[\"price_approx_usd\"] / house[\"surface_covered_in_m2\"]\n",
    "    house[\"price_per_m2\"] = price_per_m2\n",
    "        \n",
    "\n",
    "# Print `houses_rowwise` object type\n",
    "print(\"houses_rowwise type:\", type(houses_rowwise))\n",
    "\n",
    "# Print `houses_rowwise` length\n",
    "print(\"houses_rowwise length:\", len(houses_rowwise))\n",
    "\n",
    "# Get output of `houses_rowwise`\n",
    "houses_rowwise"
   ]
  },
  {
   "cell_type": "markdown",
   "id": "9d52541d-e25c-4910-b4aa-6a80d39598fd",
   "metadata": {},
   "source": [
    "**Task 1.1.6:** To calculate the mean price for `houses_rowwise` by completing the code below."
   ]
  },
  {
   "cell_type": "code",
   "execution_count": 10,
   "id": "19e06bdb-0f1b-4e03-a9b2-31f636ac403f",
   "metadata": {},
   "outputs": [
    {
     "name": "stdout",
     "output_type": "stream",
     "text": [
      "mean_house_price type: <class 'float'>\n"
     ]
    },
    {
     "data": {
      "text/plain": [
       "572.1075722995267"
      ]
     },
     "execution_count": 10,
     "metadata": {},
     "output_type": "execute_result"
    }
   ],
   "source": [
    "# Declare `house_prices` as empty list\n",
    "house_prices = []\n",
    "\n",
    "# Iterate through `houses_rowwise`\n",
    "\n",
    "    # For each house, append \"price_approx_usd\" to `house_prices`\n",
    "for house in houses_rowwise:\n",
    "    house_prices.append(house[\"price_per_m2\"])\n",
    "\n",
    "# Calculate `mean_house_price` using `house_prices`\n",
    "mean_house_price = sum(house_prices) / len(house_prices)\n",
    "\n",
    "# Print `mean_house_price` object type\n",
    "print(\"mean_house_price type:\", type(mean_house_price))\n",
    "\n",
    "# Get output of `mean_house_price`\n",
    "mean_house_price"
   ]
  },
  {
   "cell_type": "markdown",
   "id": "e7c34cae-a1b1-479e-99a8-5528c65dda3a",
   "metadata": {},
   "source": [
    "One way to make this sort of calculation easier is to organize our data by features instead of observations."
   ]
  },
  {
   "cell_type": "code",
   "execution_count": 11,
   "id": "e6a9d8e5-78ad-4761-a888-26412b8ff96a",
   "metadata": {},
   "outputs": [
    {
     "name": "stdout",
     "output_type": "stream",
     "text": [
      "houses_columnwise type: <class 'dict'>\n"
     ]
    },
    {
     "data": {
      "text/plain": [
       "{'price_approx_usd': [115910.26, 48718.17, 28977.56, 36932.27, 83903.51],\n",
       " 'surface_covered_in_m2': [128.0, 210.0, 58.0, 79.0, 111.0],\n",
       " 'rooms': [4.0, 3.0, 2.0, 3.0, 3.0]}"
      ]
     },
     "execution_count": 11,
     "metadata": {},
     "output_type": "execute_result"
    }
   ],
   "source": [
    "# Declare variable `houses_columnwise`\n",
    "houses_columnwise = {\n",
    "    \"price_approx_usd\": [115910.26, 48718.17, 28977.56, 36932.27, 83903.51],\n",
    "    \"surface_covered_in_m2\": [128.0, 210.0, 58.0, 79.0, 111.0],\n",
    "    \"rooms\": [4.0, 3.0, 2.0, 3.0, 3.0],\n",
    "}\n",
    "\n",
    "# Print `houses_columnwise` object type\n",
    "print(\"houses_columnwise type:\", type(houses_columnwise))\n",
    "\n",
    "# Get output of `houses_columnwise`\n",
    "houses_columnwise"
   ]
  },
  {
   "cell_type": "markdown",
   "id": "66067b7b-f44e-4265-a8aa-4c6a6c4fbe8f",
   "metadata": {},
   "source": [
    "**Task 1.1.7:** Calculate the mean house price in `houses_columnwise`"
   ]
  },
  {
   "cell_type": "code",
   "execution_count": 12,
   "id": "f5149157-ec9d-463e-be3e-1eac9f42327d",
   "metadata": {},
   "outputs": [
    {
     "name": "stdout",
     "output_type": "stream",
     "text": [
      "mean_house_price type: <class 'float'>\n"
     ]
    },
    {
     "data": {
      "text/plain": [
       "62888.35399999999"
      ]
     },
     "execution_count": 12,
     "metadata": {},
     "output_type": "execute_result"
    }
   ],
   "source": [
    "# Calculate `mean_house_price` using `houses_columnwise`\n",
    "mean_house_price = sum(houses_columnwise[\"price_approx_usd\"]) / len(houses_columnwise[\"price_approx_usd\"])\n",
    "\n",
    "# Print `mean_house_price` object type\n",
    "print(\"mean_house_price type:\", type(mean_house_price))\n",
    "\n",
    "# Get output of `mean_house_price`\n",
    "mean_house_price"
   ]
  },
  {
   "cell_type": "markdown",
   "id": "ad1e69ee-a68b-4e1b-a2ca-0f36230113ef",
   "metadata": {},
   "source": [
    "**Task 1.1.8:** Create a `\"price_per_m2\"` column in `houses_columnwise`?"
   ]
  },
  {
   "cell_type": "code",
   "execution_count": 13,
   "id": "06d5e87b-bedc-47d6-a3c1-7d8757cadaad",
   "metadata": {},
   "outputs": [
    {
     "name": "stdout",
     "output_type": "stream",
     "text": [
      "houses_columnwise type: <class 'dict'>\n"
     ]
    },
    {
     "data": {
      "text/plain": [
       "{'price_approx_usd': [115910.26, 48718.17, 28977.56, 36932.27, 83903.51],\n",
       " 'surface_covered_in_m2': [128.0, 210.0, 58.0, 79.0, 111.0],\n",
       " 'rooms': [4.0, 3.0, 2.0, 3.0, 3.0],\n",
       " ' price_per_m2': [905.54890625,\n",
       "  231.9912857142857,\n",
       "  499.61310344827587,\n",
       "  467.4970886075949,\n",
       "  755.8874774774774]}"
      ]
     },
     "execution_count": 13,
     "metadata": {},
     "output_type": "execute_result"
    }
   ],
   "source": [
    "# Add \"price_per_m2\" key-value pair for `houses_columnwise`\n",
    "price = houses_columnwise[\"price_approx_usd\"]\n",
    "area = houses_columnwise[\"surface_covered_in_m2\"]\n",
    "\n",
    "price_per_m2 = []\n",
    "for p, a in zip(price, area):\n",
    "    price_m2 = p / a\n",
    "    price_per_m2.append(price_m2)\n",
    "\n",
    "houses_columnwise[\" price_per_m2\"] = price_per_m2\n",
    "\n",
    "\n",
    "# Print `houses_columnwise` object type\n",
    "print(\"houses_columnwise type:\", type(houses_columnwise))\n",
    "\n",
    "# Get output of `houses_columnwise`\n",
    "houses_columnwise"
   ]
  },
  {
   "cell_type": "markdown",
   "id": "49c9f886-811f-458d-a28a-8eaeeaa4536c",
   "metadata": {},
   "source": [
    "# Tabular Data and pandas DataFrames"
   ]
  },
  {
   "cell_type": "code",
   "execution_count": 14,
   "id": "f1782b6a-9d9c-4b3d-8f48-a6ce439173cb",
   "metadata": {},
   "outputs": [
    {
     "name": "stdout",
     "output_type": "stream",
     "text": [
      "df_houses type: <class 'pandas.core.frame.DataFrame'>\n",
      "df_houses shape: (5, 4)\n"
     ]
    },
    {
     "data": {
      "text/html": [
       "<div>\n",
       "<style scoped>\n",
       "    .dataframe tbody tr th:only-of-type {\n",
       "        vertical-align: middle;\n",
       "    }\n",
       "\n",
       "    .dataframe tbody tr th {\n",
       "        vertical-align: top;\n",
       "    }\n",
       "\n",
       "    .dataframe thead th {\n",
       "        text-align: right;\n",
       "    }\n",
       "</style>\n",
       "<table border=\"1\" class=\"dataframe\">\n",
       "  <thead>\n",
       "    <tr style=\"text-align: right;\">\n",
       "      <th></th>\n",
       "      <th>price_approx_usd</th>\n",
       "      <th>surface_covered_in_m2</th>\n",
       "      <th>rooms</th>\n",
       "      <th>price_per_m2</th>\n",
       "    </tr>\n",
       "  </thead>\n",
       "  <tbody>\n",
       "    <tr>\n",
       "      <th>0</th>\n",
       "      <td>115910.26</td>\n",
       "      <td>128.0</td>\n",
       "      <td>4.0</td>\n",
       "      <td>905.548906</td>\n",
       "    </tr>\n",
       "    <tr>\n",
       "      <th>1</th>\n",
       "      <td>48718.17</td>\n",
       "      <td>210.0</td>\n",
       "      <td>3.0</td>\n",
       "      <td>231.991286</td>\n",
       "    </tr>\n",
       "    <tr>\n",
       "      <th>2</th>\n",
       "      <td>28977.56</td>\n",
       "      <td>58.0</td>\n",
       "      <td>2.0</td>\n",
       "      <td>499.613103</td>\n",
       "    </tr>\n",
       "    <tr>\n",
       "      <th>3</th>\n",
       "      <td>36932.27</td>\n",
       "      <td>79.0</td>\n",
       "      <td>3.0</td>\n",
       "      <td>467.497089</td>\n",
       "    </tr>\n",
       "    <tr>\n",
       "      <th>4</th>\n",
       "      <td>83903.51</td>\n",
       "      <td>111.0</td>\n",
       "      <td>3.0</td>\n",
       "      <td>755.887477</td>\n",
       "    </tr>\n",
       "  </tbody>\n",
       "</table>\n",
       "</div>"
      ],
      "text/plain": [
       "   price_approx_usd  surface_covered_in_m2  rooms   price_per_m2\n",
       "0         115910.26                  128.0    4.0     905.548906\n",
       "1          48718.17                  210.0    3.0     231.991286\n",
       "2          28977.56                   58.0    2.0     499.613103\n",
       "3          36932.27                   79.0    3.0     467.497089\n",
       "4          83903.51                  111.0    3.0     755.887477"
      ]
     },
     "execution_count": 14,
     "metadata": {},
     "output_type": "execute_result"
    }
   ],
   "source": [
    "# Import pandas library, aliased as `pd`\n",
    "import pandas as pd\n",
    "\n",
    "# Declare variable `df_houses`\n",
    "df_houses = pd.DataFrame(houses_columnwise)\n",
    "\n",
    "# Print `df_houses` object type\n",
    "print(\"df_houses type:\", type(df_houses))\n",
    "\n",
    "# Print `df_houses` shape\n",
    "print(\"df_houses shape:\", df_houses.shape)\n",
    "\n",
    "# Get output of `df_houses`\n",
    "df_houses"
   ]
  },
  {
   "cell_type": "code",
   "execution_count": null,
   "id": "9573a5d4-fe2b-4d14-a4e7-4f72e8172551",
   "metadata": {},
   "outputs": [],
   "source": []
  }
 ],
 "metadata": {
  "kernelspec": {
   "display_name": "Python 3 (ipykernel)",
   "language": "python",
   "name": "python3"
  },
  "language_info": {
   "codemirror_mode": {
    "name": "ipython",
    "version": 3
   },
   "file_extension": ".py",
   "mimetype": "text/x-python",
   "name": "python",
   "nbconvert_exporter": "python",
   "pygments_lexer": "ipython3",
   "version": "3.11.3"
  }
 },
 "nbformat": 4,
 "nbformat_minor": 5
}
